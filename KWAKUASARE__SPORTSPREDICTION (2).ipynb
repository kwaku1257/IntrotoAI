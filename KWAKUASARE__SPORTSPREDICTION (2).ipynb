{
  "cells": [
    {
      "cell_type": "code",
      "execution_count": 37,
      "metadata": {
        "colab": {
          "base_uri": "https://localhost:8080/"
        },
        "id": "BSdN_QW3XOe1",
        "outputId": "c71e8e74-05b5-47b7-a84b-404e2f365b0d"
      },
      "outputs": [
        {
          "output_type": "stream",
          "name": "stdout",
          "text": [
            "Drive already mounted at /content/drive; to attempt to forcibly remount, call drive.mount(\"/content/drive\", force_remount=True).\n"
          ]
        }
      ],
      "source": [
        "import pandas as pd\n",
        "import numpy as np\n",
        "from sklearn.impute import SimpleImputer\n",
        "from sklearn.preprocessing import StandardScaler\n",
        "from sklearn.model_selection import train_test_split\n",
        "from sklearn.ensemble import RandomForestRegressor\n",
        "from sklearn.metrics import mean_absolute_error, mean_squared_error\n",
        "import pickle\n",
        "from google.colab import drive\n",
        "drive.mount('/content/drive')"
      ]
    },
    {
      "cell_type": "code",
      "execution_count": null,
      "metadata": {
        "id": "ABIPkbSQakI9"
      },
      "outputs": [],
      "source": [
        "df = pd.read_csv('/content/drive/MyDrive/Colab Notebooks/players_22-1 (1).csv')\n"
      ]
    },
    {
      "cell_type": "code",
      "execution_count": null,
      "metadata": {
        "id": "cpmaFGqeegAP"
      },
      "outputs": [],
      "source": [
        "df.info()"
      ]
    },
    {
      "cell_type": "code",
      "execution_count": null,
      "metadata": {
        "id": "Zc4ICp9TfnjZ"
      },
      "outputs": [],
      "source": [
        "#finding correlation between each feature and the overall rating of the player\n",
        "selected_features = ['overall', 'potential', 'age', 'height_cm', 'weight_kg', 'pace', 'shooting', 'passing',\n",
        "                     'dribbling', 'defending', 'physic', 'attacking_crossing', 'attacking_finishing',\n",
        "                     'attacking_heading_accuracy', 'attacking_short_passing', 'attacking_volleys',\n",
        "                     'skill_dribbling', 'skill_curve', 'skill_fk_accuracy', 'skill_long_passing',\n",
        "                     'skill_ball_control', 'movement_acceleration', 'movement_sprint_speed', 'movement_agility',\n",
        "                     'movement_reactions', 'movement_balance', 'power_shot_power', 'power_jumping', 'power_stamina',\n",
        "                     'power_strength', 'power_long_shots', 'mentality_aggression', 'mentality_interceptions',\n",
        "                     'mentality_positioning', 'mentality_vision', 'mentality_penalties', 'mentality_composure',\n",
        "                     'defending_marking_awareness', 'defending_standing_tackle', 'defending_sliding_tackle',\n",
        "                     'goalkeeping_diving', 'goalkeeping_handling', 'goalkeeping_kicking', 'goalkeeping_positioning',\n",
        "                     'goalkeeping_reflexes', 'goalkeeping_speed']\n",
        "correlation_matrix = df[selected_features].corr()\n",
        "correlation_matrix['overall'].sort_values(ascending=False)"
      ]
    },
    {
      "cell_type": "code",
      "execution_count": null,
      "metadata": {
        "id": "umDJQM9lhJ2I"
      },
      "outputs": [],
      "source": [
        "#selection of best correlated features\n",
        "selected_columns = ['skill_long_passing', 'skill_ball_control', 'skill_curve', 'skill_fk_accuracy', 'skill_dribbling',\n",
        "                    'goalkeeping_handling', 'attacking_crossing', 'movement_reactions', 'age',\n",
        "                    'mentality_aggression', 'mentality_vision', 'mentality_interceptions', 'goalkeeping_kicking',\n",
        "                    'goalkeeping_speed', 'shooting', 'dribbling', 'power_shot_power','power_long_shots', 'defending', 'goalkeeping_reflexes',\n",
        "                    'potential', 'mentality_composure', 'mentality_positioning', 'mentality_penalties', 'passing',\n",
        "                    'attacking_short_passing', 'physic', 'overall', 'goalkeeping_positioning', 'goalkeeping_diving',\n",
        "                    'attacking_volleys', 'attacking_finishing']\n"
      ]
    },
    {
      "cell_type": "code",
      "execution_count": null,
      "metadata": {
        "id": "gTKxWaCFhvY4"
      },
      "outputs": [],
      "source": [
        "df = pd.read_csv('/content/drive/MyDrive/Colab Notebooks/players_21.csv', usecols=selected_columns)"
      ]
    },
    {
      "cell_type": "code",
      "execution_count": null,
      "metadata": {
        "id": "KVIrYvvGh2u8"
      },
      "outputs": [],
      "source": [
        "df.head()"
      ]
    },
    {
      "cell_type": "code",
      "execution_count": null,
      "metadata": {
        "id": "Vuh9EAq3iywI"
      },
      "outputs": [],
      "source": [
        "df.replace(np.nan, 0, inplace=True)\n",
        "df.loc[df['overall'] == 93, 'overall'] = 92"
      ]
    },
    {
      "cell_type": "code",
      "execution_count": null,
      "metadata": {
        "id": "lTR0lHvfi5dy"
      },
      "outputs": [],
      "source": [
        "shooting_attributes = ['shooting', 'power_shot_power', 'power_long_shots', 'attacking_volleys','attacking_finishing']\n",
        "\n",
        "df['shooting_skills'] = df[shooting_attributes].mean(axis=1)\n",
        "\n",
        "df.drop(columns=shooting_attributes, inplace=True)\n",
        "\n",
        "df.info()"
      ]
    },
    {
      "cell_type": "code",
      "execution_count": null,
      "metadata": {
        "id": "s7iBqKgljDny"
      },
      "outputs": [],
      "source": [
        "mentality_attributes = ['mentality_aggression', 'mentality_interceptions', 'mentality_positioning',\n",
        "                        'mentality_vision', 'mentality_penalties', 'mentality_composure']\n",
        "imputer = SimpleImputer(strategy='mean')\n",
        "df[mentality_attributes] = imputer.fit_transform(df[mentality_attributes])\n",
        "\n",
        "df['mentality'] = df[mentality_attributes].mean(axis=1)\n",
        "\n",
        "df.drop(columns=mentality_attributes, inplace=True)\n",
        "\n",
        "df.info()"
      ]
    },
    {
      "cell_type": "code",
      "execution_count": null,
      "metadata": {
        "id": "E_7cSZu2jegI"
      },
      "outputs": [],
      "source": [
        "skill_attributes = ['skill_long_passing', 'skill_ball_control', 'skill_curve', 'skill_fk_accuracy', 'skill_dribbling']\n",
        "\n",
        "df['skills'] = df[skill_attributes].mean(axis=1)\n",
        "\n",
        "df.drop(columns=skill_attributes, inplace=True)\n",
        "\n",
        "df.info()"
      ]
    },
    {
      "cell_type": "code",
      "execution_count": null,
      "metadata": {
        "id": "J7Dj4SgLj5F7"
      },
      "outputs": [],
      "source": [
        "df = df.astype(int)\n",
        "goalkeeping_attributes = ['goalkeeping_diving', 'goalkeeping_handling', 'goalkeeping_kicking',\n",
        "                          'goalkeeping_positioning', 'goalkeeping_reflexes', 'goalkeeping_speed']\n",
        "\n",
        "\n",
        "imputer = SimpleImputer(strategy='mean')\n",
        "df[goalkeeping_attributes] = imputer.fit_transform(df[goalkeeping_attributes])\n",
        "\n",
        "df['goalkeeping_skills'] = df[goalkeeping_attributes].mean(axis=1)\n",
        "df.drop(columns=goalkeeping_attributes, inplace=True)\n",
        "df.info()\n",
        "\n"
      ]
    },
    {
      "cell_type": "code",
      "execution_count": null,
      "metadata": {
        "id": "gG0f6gSZkXBR"
      },
      "outputs": [],
      "source": [
        "df= df.astype(int)\n",
        "df.info()"
      ]
    },
    {
      "cell_type": "code",
      "execution_count": null,
      "metadata": {
        "id": "jO9ngJA-kjka"
      },
      "outputs": [],
      "source": [
        "y=df['overall']\n",
        "X=df.drop('overall',axis=1)"
      ]
    },
    {
      "cell_type": "code",
      "execution_count": null,
      "metadata": {
        "id": "2bl-gqmhknb0"
      },
      "outputs": [],
      "source": [
        "sc=StandardScaler()"
      ]
    },
    {
      "cell_type": "code",
      "execution_count": null,
      "metadata": {
        "id": "TqE39nrZlDLr"
      },
      "outputs": [],
      "source": [
        "scaled=sc.fit_transform(X)\n",
        "X=pd.DataFrame(scaled, columns=X.columns)"
      ]
    },
    {
      "cell_type": "code",
      "execution_count": null,
      "metadata": {
        "id": "Ba1_N79slQ3X"
      },
      "outputs": [],
      "source": [
        "y.head()"
      ]
    },
    {
      "cell_type": "code",
      "execution_count": null,
      "metadata": {
        "id": "QpgeX8vmlfaW"
      },
      "outputs": [],
      "source": [
        "Xtrain,Xtest,Ytrain,Ytest=train_test_split(X,y,test_size=0.1,random_state=42,stratify = y)\n",
        "Xtrain.shape\n"
      ]
    },
    {
      "cell_type": "code",
      "execution_count": null,
      "metadata": {
        "id": "1clc8Xmflx-7"
      },
      "outputs": [],
      "source": [
        "rf=RandomForestRegressor()\n",
        "rf.fit(Xtrain, Ytrain)"
      ]
    },
    {
      "cell_type": "code",
      "execution_count": null,
      "metadata": {
        "id": "r6VzaxZNl6M8"
      },
      "outputs": [],
      "source": [
        "y_pred = rf.predict(Xtest)\n",
        "mae = mean_absolute_error(Ytest, y_pred)\n",
        "print(f'Mean Absolute Error: {mae}')"
      ]
    },
    {
      "cell_type": "code",
      "execution_count": null,
      "metadata": {
        "id": "HIncl_qjnst1"
      },
      "outputs": [],
      "source": [
        "feature_importances = rf.feature_importances_\n",
        "\n",
        "# Creating a DataFrame\n",
        "feature_importances_df = pd.DataFrame({\n",
        "    'Feature': X.columns,\n",
        "    'Importance': feature_importances\n",
        "})\n"
      ]
    },
    {
      "cell_type": "markdown",
      "metadata": {
        "id": "etGwb2fxoEFY"
      },
      "source": []
    },
    {
      "cell_type": "code",
      "execution_count": null,
      "metadata": {
        "id": "KwuNRy0dn6so"
      },
      "outputs": [],
      "source": [
        "feature_importances_df = feature_importances_df.sort_values(by='Importance', ascending=False)\n",
        "feature_importances_df"
      ]
    },
    {
      "cell_type": "code",
      "execution_count": null,
      "metadata": {
        "id": "I67HYGmFotvy"
      },
      "outputs": [],
      "source": [
        "df['potential_x_movement_reactions'] = df['potential'] * df['movement_reactions']\n",
        "df['dribbling_x_defending'] = df['dribbling'] * df['defending']\n"
      ]
    },
    {
      "cell_type": "code",
      "execution_count": null,
      "metadata": {
        "id": "PemNq2fwo52j"
      },
      "outputs": [],
      "source": [
        "# Defining features and target\n",
        "y = df['overall']\n",
        "X = df[['movement_reactions', 'potential', 'dribbling', 'defending', 'goalkeeping_skills',\n",
        "        'age', 'attacking_crossing', 'physic', 'shooting_skills', 'mentality',\n",
        "        'attacking_short_passing', 'passing', 'skills', 'potential_x_movement_reactions',\n",
        "        'dribbling_x_defending']]"
      ]
    },
    {
      "cell_type": "code",
      "execution_count": null,
      "metadata": {
        "id": "lVgLBeXzoxFZ"
      },
      "outputs": [],
      "source": [
        "from sklearn.preprocessing import MinMaxScaler\n",
        "\n",
        "scaler = MinMaxScaler()\n",
        "df[['age', 'potential', 'movement_reactions']] = scaler.fit_transform(df[['age', 'potential', 'movement_reactions']])\n"
      ]
    },
    {
      "cell_type": "code",
      "execution_count": null,
      "metadata": {
        "id": "LU8Ywxwcqlw1"
      },
      "outputs": [],
      "source": [
        "sc = StandardScaler()\n",
        "scaled = sc.fit_transform(X)\n",
        "X = pd.DataFrame(scaled, columns=X.columns)"
      ]
    },
    {
      "cell_type": "code",
      "execution_count": null,
      "metadata": {
        "id": "i824LPYeqtIH"
      },
      "outputs": [],
      "source": [
        "Xtrain, Xtest, Ytrain, Ytest = train_test_split(X, y, test_size=0.1, random_state=42, stratify=y)\n"
      ]
    },
    {
      "cell_type": "code",
      "execution_count": null,
      "metadata": {
        "id": "A3ADGTrOqx0Z"
      },
      "outputs": [],
      "source": [
        "rf = RandomForestRegressor(random_state=42)\n",
        "rf.fit(Xtrain, Ytrain)"
      ]
    },
    {
      "cell_type": "code",
      "execution_count": null,
      "metadata": {
        "id": "snW9eWBoq2TJ"
      },
      "outputs": [],
      "source": [
        "y_pred = rf.predict(Xtest)\n",
        "mae = mean_absolute_error(Ytest, y_pred)\n",
        "print(f'Mean Absolute Error: {mae}')"
      ]
    },
    {
      "cell_type": "code",
      "execution_count": null,
      "metadata": {
        "id": "W0hdZi3xrJKJ"
      },
      "outputs": [],
      "source": [
        "from xgboost import XGBRegressor\n",
        "xgb_model = XGBRegressor()\n",
        "xgb_model.fit(Xtrain, Ytrain)\n",
        "\n",
        "y_pred_xgb = xgb_model.predict(Xtest)\n",
        "\n",
        "mae_xgb = mean_absolute_error(y_pred_xgb, Ytest)\n",
        "mae_xgb"
      ]
    },
    {
      "cell_type": "code",
      "execution_count": null,
      "metadata": {
        "id": "qUwvmwaht_og"
      },
      "outputs": [],
      "source": [
        "from sklearn.ensemble import AdaBoostRegressor\n",
        "ada_model = AdaBoostRegressor()\n",
        "ada_model.fit(Xtrain, Ytrain)\n",
        "\n",
        "y_pred_ada = ada_model.predict(Xtest)\n",
        "\n",
        "mae_ada = mean_absolute_error(y_pred_ada, Ytest)\n",
        "mae_ada"
      ]
    },
    {
      "cell_type": "code",
      "execution_count": null,
      "metadata": {
        "colab": {
          "base_uri": "https://localhost:8080/"
        },
        "id": "s5c1U8X95zqN",
        "outputId": "dd140217-152c-4a37-a0b2-20f9b4293b62"
      },
      "outputs": [
        {
          "metadata": {
            "tags": null
          },
          "name": "stdout",
          "output_type": "stream",
          "text": [
            "Fitting 5 folds for each of 100 candidates, totalling 500 fits\n"
          ]
        }
      ],
      "source": [
        "from sklearn.model_selection import RandomizedSearchCV\n",
        "from sklearn.ensemble import RandomForestRegressor\n",
        "\n",
        "# Defining the parameter grid\n",
        "param_grid_rf = {\n",
        "    'n_estimators': [100, 200, 300, 400, 500],\n",
        "    'max_features': ['auto', 'sqrt', 'log2'],\n",
        "    'max_depth': [None, 10, 20, 30, 40, 50],\n",
        "    'min_samples_split': [2, 5, 10],\n",
        "    'min_samples_leaf': [1, 2, 4],\n",
        "    'bootstrap': [True, False]\n",
        "}\n",
        "\n",
        "# Creating the RandomForestRegressor model\n",
        "rf = RandomForestRegressor(random_state=42)\n",
        "\n",
        "# Setting up RandomizedSearchCV with 5-fold cross-validation\n",
        "rf_random = RandomizedSearchCV(estimator=rf, param_distributions=param_grid_rf, n_iter=100,\n",
        "                               cv=5, verbose=2, random_state=42, n_jobs=-1)\n",
        "\n",
        "# Fit RandomizedSearchCV\n",
        "rf_random.fit(Xtrain, Ytrain)\n",
        "\n",
        "# obtain the best parameters\n",
        "print(\"Best parameters found for RandomForestRegressor:\")\n",
        "print(rf_random.best_params_)\n",
        "\n",
        "# Evaluate for the best model\n",
        "best_rf = rf_random.best_estimator_\n",
        "y_pred_rf = best_rf.predict(Xtest)\n",
        "mae_rf = mean_absolute_error(Ytest, y_pred_rf)\n",
        "print(f'Mean Absolute Error (RandomForestRegressor): {mae_rf}')"
      ]
    },
    {
      "cell_type": "code",
      "source": [
        "print(f'Mean Absolute Error (RandomForestRegressor): {mae_rf}')"
      ],
      "metadata": {
        "colab": {
          "base_uri": "https://localhost:8080/"
        },
        "id": "3LYFG1fKyo-d",
        "outputId": "0a2ec611-4d2e-4ba9-a720-8622ab76b138"
      },
      "execution_count": 35,
      "outputs": [
        {
          "output_type": "stream",
          "name": "stdout",
          "text": [
            "Mean Absolute Error (RandomForestRegressor): 0.7258896114203055\n"
          ]
        }
      ]
    },
    {
      "cell_type": "code",
      "source": [
        "model_filename = 'best_random_forest_model.pkl'\n",
        "with open(model_filename, 'wb') as file:\n",
        "    pickle.dump(best_rf, file)\n",
        "print(f'Model saved to {model_filename}')\n",
        "\n",
        "# Loading the model to verify\n",
        "with open(model_filename, 'rb') as file:\n",
        "    loaded_model = pickle.load(file)\n",
        "loaded_y_pred = loaded_model.predict(Xtest)\n",
        "loaded_mae = mean_absolute_error(Ytest, loaded_y_pred)\n",
        "print(f'Mean Absolute Error (Loaded Model): {loaded_mae}')"
      ],
      "metadata": {
        "colab": {
          "base_uri": "https://localhost:8080/"
        },
        "id": "3Lr5gtmez-PB",
        "outputId": "632a1ad6-749b-486f-80ca-ad2c4825a3f7"
      },
      "execution_count": 40,
      "outputs": [
        {
          "output_type": "stream",
          "name": "stdout",
          "text": [
            "Model saved to best_random_forest_model.pkl\n",
            "Mean Absolute Error (Loaded Model): 0.7258896114203055\n"
          ]
        }
      ]
    },
    {
      "cell_type": "markdown",
      "metadata": {
        "id": "VJeXQ2lGoEj3"
      },
      "source": []
    }
  ],
  "metadata": {
    "colab": {
      "provenance": []
    },
    "kernelspec": {
      "display_name": "Python 3",
      "name": "python3"
    },
    "language_info": {
      "name": "python"
    }
  },
  "nbformat": 4,
  "nbformat_minor": 0
}